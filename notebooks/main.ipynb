{
 "cells": [
  {
   "cell_type": "code",
   "execution_count": null,
   "id": "34e6b49c",
   "metadata": {
    "vscode": {
     "languageId": "plaintext"
    }
   },
   "outputs": [],
   "source": [
    "## Mount Google Drive\n",
    "from google.colab import drive\n",
    "drive.mount('/content/drive')"
   ]
  },
  {
   "cell_type": "code",
   "execution_count": null,
   "id": "4d14a366",
   "metadata": {
    "vscode": {
     "languageId": "plaintext"
    }
   },
   "outputs": [],
   "source": [
    "## Clone your GitHub repo (if not already cloned)\n",
    "## ⚠️ Replace YOUR_USERNAME and REPO_NAME\n",
    "!git clone https://github.com/limtengyeow/AI.git\n",
    "%cd AI"
   ]
  },
  {
   "cell_type": "code",
   "execution_count": null,
   "id": "81c3bd15",
   "metadata": {
    "vscode": {
     "languageId": "plaintext"
    }
   },
   "outputs": [],
   "source": [
    "## Install dependencies\n",
    "!pip install -r requirements.txt"
   ]
  }
 ],
 "metadata": {
  "language_info": {
   "name": "python"
  }
 },
 "nbformat": 4,
 "nbformat_minor": 5
}
